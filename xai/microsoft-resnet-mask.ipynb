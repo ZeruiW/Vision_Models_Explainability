{
 "cells": [
  {
   "cell_type": "markdown",
   "metadata": {},
   "source": [
    "Dataset"
   ]
  },
  {
   "cell_type": "code",
   "execution_count": 4,
   "metadata": {},
   "outputs": [
    {
     "name": "stdout",
     "output_type": "stream",
     "text": [
      "Using CUDA!\n"
     ]
    },
    {
     "name": "stderr",
     "output_type": "stream",
     "text": [
      "100%|██████████| 100/100 [12:10<00:00,  7.31s/it]\n"
     ]
    },
    {
     "name": "stdout",
     "output_type": "stream",
     "text": [
      "<class 'pytorch_grad_cam.grad_cam.GradCAM'> processing completed.\n"
     ]
    },
    {
     "name": "stderr",
     "output_type": "stream",
     "text": [
      "100%|██████████| 100/100 [11:55<00:00,  7.15s/it]\n"
     ]
    },
    {
     "name": "stdout",
     "output_type": "stream",
     "text": [
      "<class 'pytorch_grad_cam.hirescam.HiResCAM'> processing completed.\n"
     ]
    },
    {
     "name": "stderr",
     "output_type": "stream",
     "text": [
      "100%|██████████| 100/100 [12:01<00:00,  7.21s/it]\n"
     ]
    },
    {
     "name": "stdout",
     "output_type": "stream",
     "text": [
      "<class 'pytorch_grad_cam.grad_cam_plusplus.GradCAMPlusPlus'> processing completed.\n"
     ]
    },
    {
     "name": "stderr",
     "output_type": "stream",
     "text": [
      "100%|██████████| 100/100 [11:53<00:00,  7.13s/it]\n"
     ]
    },
    {
     "name": "stdout",
     "output_type": "stream",
     "text": [
      "<class 'pytorch_grad_cam.xgrad_cam.XGradCAM'> processing completed.\n"
     ]
    },
    {
     "name": "stderr",
     "output_type": "stream",
     "text": [
      "100%|██████████| 100/100 [11:53<00:00,  7.14s/it]\n"
     ]
    },
    {
     "name": "stdout",
     "output_type": "stream",
     "text": [
      "<class 'pytorch_grad_cam.layer_cam.LayerCAM'> processing completed.\n",
      "Using CUDA!\n"
     ]
    },
    {
     "name": "stderr",
     "output_type": "stream",
     "text": [
      "100%|██████████| 100/100 [11:47<00:00,  7.07s/it]\n"
     ]
    },
    {
     "name": "stdout",
     "output_type": "stream",
     "text": [
      "<class 'pytorch_grad_cam.grad_cam.GradCAM'> processing completed.\n"
     ]
    },
    {
     "name": "stderr",
     "output_type": "stream",
     "text": [
      "100%|██████████| 100/100 [11:51<00:00,  7.11s/it]\n"
     ]
    },
    {
     "name": "stdout",
     "output_type": "stream",
     "text": [
      "<class 'pytorch_grad_cam.hirescam.HiResCAM'> processing completed.\n"
     ]
    },
    {
     "name": "stderr",
     "output_type": "stream",
     "text": [
      "100%|██████████| 100/100 [11:58<00:00,  7.18s/it]\n"
     ]
    },
    {
     "name": "stdout",
     "output_type": "stream",
     "text": [
      "<class 'pytorch_grad_cam.grad_cam_plusplus.GradCAMPlusPlus'> processing completed.\n"
     ]
    },
    {
     "name": "stderr",
     "output_type": "stream",
     "text": [
      "100%|██████████| 100/100 [11:46<00:00,  7.07s/it]\n"
     ]
    },
    {
     "name": "stdout",
     "output_type": "stream",
     "text": [
      "<class 'pytorch_grad_cam.xgrad_cam.XGradCAM'> processing completed.\n"
     ]
    },
    {
     "name": "stderr",
     "output_type": "stream",
     "text": [
      "100%|██████████| 100/100 [11:45<00:00,  7.06s/it]\n"
     ]
    },
    {
     "name": "stdout",
     "output_type": "stream",
     "text": [
      "<class 'pytorch_grad_cam.layer_cam.LayerCAM'> processing completed.\n",
      "Using CUDA!\n"
     ]
    },
    {
     "name": "stderr",
     "output_type": "stream",
     "text": [
      "100%|██████████| 100/100 [11:47<00:00,  7.08s/it]\n"
     ]
    },
    {
     "name": "stdout",
     "output_type": "stream",
     "text": [
      "<class 'pytorch_grad_cam.grad_cam.GradCAM'> processing completed.\n"
     ]
    },
    {
     "name": "stderr",
     "output_type": "stream",
     "text": [
      "100%|██████████| 100/100 [11:44<00:00,  7.04s/it]\n"
     ]
    },
    {
     "name": "stdout",
     "output_type": "stream",
     "text": [
      "<class 'pytorch_grad_cam.hirescam.HiResCAM'> processing completed.\n"
     ]
    },
    {
     "name": "stderr",
     "output_type": "stream",
     "text": [
      "100%|██████████| 100/100 [11:51<00:00,  7.11s/it]\n"
     ]
    },
    {
     "name": "stdout",
     "output_type": "stream",
     "text": [
      "<class 'pytorch_grad_cam.grad_cam_plusplus.GradCAMPlusPlus'> processing completed.\n"
     ]
    },
    {
     "name": "stderr",
     "output_type": "stream",
     "text": [
      "100%|██████████| 100/100 [11:46<00:00,  7.06s/it]\n"
     ]
    },
    {
     "name": "stdout",
     "output_type": "stream",
     "text": [
      "<class 'pytorch_grad_cam.xgrad_cam.XGradCAM'> processing completed.\n"
     ]
    },
    {
     "name": "stderr",
     "output_type": "stream",
     "text": [
      "100%|██████████| 100/100 [11:46<00:00,  7.06s/it]"
     ]
    },
    {
     "name": "stdout",
     "output_type": "stream",
     "text": [
      "<class 'pytorch_grad_cam.layer_cam.LayerCAM'> processing completed.\n"
     ]
    },
    {
     "name": "stderr",
     "output_type": "stream",
     "text": [
      "\n"
     ]
    }
   ],
   "source": [
    "import os\n",
    "from PIL import Image\n",
    "import json\n",
    "from torchvision.models import resnet50\n",
    "import warnings\n",
    "warnings.filterwarnings('ignore')\n",
    "from codecarbon import track_emissions\n",
    "from torchvision import transforms\n",
    "from pytorch_grad_cam import (\n",
    "    GradCAM, HiResCAM, ScoreCAM, GradCAMPlusPlus,\n",
    "    AblationCAM, XGradCAM, EigenCAM, EigenGradCAM,\n",
    "    LayerCAM, FullGrad, GradCAMElementWise\n",
    ")\n",
    "from pytorch_grad_cam.utils.model_targets import ClassifierOutputTarget\n",
    "from pytorch_grad_cam.utils.image import show_cam_on_image\n",
    "from typing import List, Callable, Optional\n",
    "import numpy as np\n",
    "import cv2\n",
    "import torch\n",
    "from tqdm import tqdm\n",
    "\n",
    "# Function to load images\n",
    "def load_images_from_directory(root_path: str):\n",
    "    dataset = []\n",
    "    for label in os.listdir(root_path):\n",
    "        label_path = os.path.join(root_path, label)\n",
    "        if os.path.isdir(label_path):\n",
    "            for image_file in os.listdir(label_path):\n",
    "                image_path = os.path.join(label_path, image_file)\n",
    "                if image_path.lower().endswith(('.png', '.jpg', '.jpeg')):\n",
    "                    img = Image.open(image_path)\n",
    "                    dataset.append((img, label, image_file))\n",
    "    return dataset\n",
    "def ensure_rgb(img):\n",
    "    if img.mode != 'RGB':\n",
    "        return img.convert('RGB')\n",
    "    return img\n",
    "\n",
    "# Define the transformation pipeline to apply to each image\n",
    "transform = transforms.Compose([\n",
    "    transforms.Resize((224, 224)),  # Resize the image to 224x224 pixels\n",
    "    transforms.ToTensor()            # Convert the image to a PyTorch tensor\n",
    "])\n",
    "# current_dir = \"/home/workstation/code/XAImethods/CAIN\"\n",
    "# detail_dir = \"/imagenet/val_images10k_attack/gaussian_noise/2_ResNet\"\n",
    "\n",
    "# dataset_path = f\"{current_dir}{detail_dir}\"\n",
    "\n",
    "current_dir = \"/home/z/Music/code/CAIN\"\n",
    "dataset_dirs = [\n",
    "    # \"/imagenet/val_images10k\",\n",
    "    # \"/imagenet/val_images10k_attack/gaussian_noise/1\",\n",
    "    \"/imagenet/val_images10k_attack/gaussian_noise/2\",\n",
    "    # \"/imagenet/val_images10k_attack/gaussian_noise/3\",\n",
    "    # \"/imagenet/val_images10k_attack/defocus_blur/1\",\n",
    "    \"/imagenet/val_images10k_attack/defocus_blur/2\",\n",
    "    # \"/imagenet/val_images10k_attack/defocus_blur/3\", \n",
    "    # \"/imagenet/val_images10k_attack/pixelate/1\",\n",
    "     \"/imagenet/val_images10k_attack/pixelate/2\",\n",
    "    # \"/imagenet/val_images10k_attack/pixelate/3\",\n",
    "]\n",
    "\n",
    "for detail_dir in dataset_dirs:\n",
    "\n",
    "    dataset_path = f\"{current_dir}{detail_dir}\"\n",
    "    dataset = load_images_from_directory(dataset_path)\n",
    "\n",
    "    # dataset = load_images_from_directory(dataset_path)\n",
    "    with open(f\"{current_dir}/imagenet/imagenet_class_index.json\", \"r\") as f:\n",
    "        imagenet_class_index = json.load(f)\n",
    "\n",
    "\n",
    "    # Determine device\n",
    "    if torch.cuda.is_available():\n",
    "        device = torch.device(\"cuda\")\n",
    "        print(\"Using CUDA!\")\n",
    "    else:\n",
    "        device = torch.device(\"cpu\")\n",
    "        print(\"Using CPU!\")\n",
    "\n",
    "    # ResNet Model Wrapper\n",
    "    class ResNetWrapper(torch.nn.Module):\n",
    "        def __init__(self, model):\n",
    "            super(ResNetWrapper, self).__init__()\n",
    "            self.model = model\n",
    "\n",
    "        def forward(self, x):\n",
    "            return self.model(x)\n",
    "        \n",
    "    label_to_index_description = {v[0]: (k, v[1]) for k, v in imagenet_class_index.items()}\n",
    "\n",
    "\n",
    "    # Initialize the model and target layer\n",
    "    model = resnet50(pretrained=True).to(device)\n",
    "    model_wrapper = ResNetWrapper(model).to(device)\n",
    "    target_layer_gradcam = model.layer4[-1].conv3\n",
    "\n",
    "    # Options: GradCAM, HiResCAM, GradCAMPlusPlus, XGradCAM, \n",
    "    # EigenGradCAM, LayerCAM, GradCAMElementWise\n",
    "    # #    GradCAM, HiResCAM, GradCAMPlusPlus, XGradCAM, LayerCAM, GradCAMElementWise\n",
    "    CAM_ALGORITHMS = [GradCAM, HiResCAM, GradCAMPlusPlus, XGradCAM, LayerCAM]\n",
    "\n",
    "    for CAM_ALGORITHM in CAM_ALGORITHMS:\n",
    "        cam_algorithm_name = CAM_ALGORITHM.__name__\n",
    "            \n",
    "        def run_grad_cam_on_image(model: torch.nn.Module,\n",
    "                                target_layer: torch.nn.Module,\n",
    "                                targets_for_gradcam: List[Callable],\n",
    "                                input_tensor: torch.nn.Module,\n",
    "                                input_image: Image,\n",
    "                                reshape_transform: Optional[Callable] = None,\n",
    "                                method: Callable = CAM_ALGORITHM):\n",
    "            with method(model=model,\n",
    "                        target_layers=[target_layer],\n",
    "                        reshape_transform=reshape_transform) as cam:\n",
    "                repeated_tensor = input_tensor[None, :].repeat(len(targets_for_gradcam), 1, 1, 1)\n",
    "                batch_results = cam(input_tensor=repeated_tensor,\n",
    "                                    targets=targets_for_gradcam)\n",
    "                results = []\n",
    "                grayscale_cams = []\n",
    "                for grayscale_cam in batch_results:\n",
    "                    # Ensure the input image is transformed to match the model input dimensions\n",
    "                    # Ensure the input image is transformed to match the model input dimensions\n",
    "                    transformed_input_image = transform(input_image).numpy().transpose(1, 2, 0)\n",
    "                    visualization = show_cam_on_image(np.float32(transformed_input_image), grayscale_cam, use_rgb=True)\n",
    "\n",
    "\n",
    "\n",
    "                    results.append(visualization)\n",
    "                    grayscale_cams.append(grayscale_cam)\n",
    "                return np.hstack(results), grayscale_cams\n",
    "\n",
    "\n",
    "        def print_top_categories(model, img_tensor, top_k=5):\n",
    "            logits = model(img_tensor.unsqueeze(0))\n",
    "            indices = logits.cpu()[0, :].detach().numpy().argsort()[-top_k :][::-1]\n",
    "            for i in indices:\n",
    "                print(f\"Predicted class {i}: {imagenet_class_index[str(i)][1]}\")\n",
    "\n",
    "        def get_top_k_targets(model, input_tensor, k=5):\n",
    "            logits = model(input_tensor.unsqueeze(0))\n",
    "            top_k_indices = logits[0].argsort(descending=True)[:k].cpu().numpy()\n",
    "            return [ClassifierOutputTarget(index) for index in top_k_indices]\n",
    "\n",
    "        def apply_mask_to_image(image_path, mask_path, output_path):\n",
    "            # Read the original image and mask\n",
    "            original_image = cv2.imread(image_path)\n",
    "            grayscale_mask = np.load(mask_path)\n",
    "            \n",
    "            # Ensure the mask has the same dimensions as the image\n",
    "            h, w, _ = original_image.shape\n",
    "            grayscale_mask = cv2.resize(grayscale_mask, (w, h))\n",
    "            \n",
    "            # Normalize grayscale mask to [0, 1]\n",
    "            grayscale_mask = (grayscale_mask - grayscale_mask.min()) / (grayscale_mask.max() - grayscale_mask.min())\n",
    "\n",
    "            # Convert the mask to 3D\n",
    "            grayscale_mask_3d = np.repeat(grayscale_mask[:, :, np.newaxis], 3, axis=2)\n",
    "            \n",
    "            # Apply the mask to the original image\n",
    "            masked_image = (original_image * grayscale_mask_3d).astype(np.uint8)\n",
    "            \n",
    "            # Save the masked image\n",
    "            cv2.imwrite(output_path, masked_image)\n",
    "\n",
    "        # Prepare for the main loop\n",
    "        BATCH_SIZE = 100\n",
    "        num_batches = len(dataset) // BATCH_SIZE + (1 if len(dataset) % BATCH_SIZE != 0 else 0)\n",
    "\n",
    "        save_dir = f\"{current_dir}/results/{detail_dir}/resnet50/{cam_algorithm_name}\"\n",
    "\n",
    "        if not os.path.exists(save_dir):\n",
    "            os.makedirs(save_dir)\n",
    "\n",
    "        def ensure_rgb(img):\n",
    "            if img.mode != 'RGB':\n",
    "                return img.convert('RGB')\n",
    "            return img\n",
    "\n",
    "        model = resnet50(pretrained=True).to(device)\n",
    "        target_layer_gradcam = model.layer4[-1].conv3  # Last convolutional layer of ResNet50\n",
    "        transform = transforms.Compose([\n",
    "            transforms.Resize((224, 224)),\n",
    "            transforms.ToTensor()\n",
    "        ])\n",
    "\n",
    "\n",
    "        for batch_num in tqdm(range(num_batches)):\n",
    "            start_idx = batch_num * BATCH_SIZE\n",
    "            end_idx = min((batch_num + 1) * BATCH_SIZE, len(dataset))\n",
    "\n",
    "            # Initialize ResNet50\n",
    "\n",
    "\n",
    "            for idx in range(start_idx, end_idx):\n",
    "                img, label, filename = dataset[idx]\n",
    "                try:\n",
    "                    #torch.cuda.empty_cache()\n",
    "                    img = ensure_rgb(img)\n",
    "                    img_tensor = transform(img).to(device)\n",
    "\n",
    "                    # Map label to ImageNet index\n",
    "                    index_description = label_to_index_description.get(label)\n",
    "                    if index_description is None:\n",
    "                        print(f\"Warning: Label '{label}' not found in the JSON file!\")\n",
    "                        continue\n",
    "\n",
    "                    index_str, description = index_description\n",
    "                    index = int(index_str)\n",
    "                    dynamic_targets_for_gradcam = [ClassifierOutputTarget(index)]\n",
    "\n",
    "                    gradcam_result, grayscale_cams = run_grad_cam_on_image(\n",
    "                        model=model,\n",
    "                        target_layer=target_layer_gradcam,\n",
    "                        targets_for_gradcam=dynamic_targets_for_gradcam,\n",
    "                        input_tensor=img_tensor,\n",
    "                        input_image=img,\n",
    "                        reshape_transform=None  # No reshape required for ResNet50\n",
    "                    )\n",
    "\n",
    "                    logits = model(img_tensor.unsqueeze(0))\n",
    "                    top_indices = logits[0].argsort(descending=True)[:].cpu().numpy()\n",
    "                    predictions = {index: {\"score\": logits[0][index].item(), \"label\": imagenet_class_index[str(index)][1]} for index in top_indices}\n",
    "\n",
    "                    img_dir = os.path.join(save_dir, filename.rsplit('.', 1)[0])\n",
    "                    if not os.path.exists(img_dir):\n",
    "                        os.makedirs(img_dir)\n",
    "\n",
    "                    true_label_file = os.path.join(img_dir, 'true_label.txt')\n",
    "                    with open(true_label_file, 'w') as f:\n",
    "                        f.write(str(label))\n",
    "\n",
    "                    img_name = os.path.join(img_dir, \"original.jpg\")\n",
    "                    gradcam_name = os.path.join(img_dir, \"gradcam.jpg\")\n",
    "                    grayscale_name = os.path.join(img_dir, \"grayscale.jpg\")\n",
    "                    grayscale_npy_name = os.path.join(img_dir, \"grayscale.npy\")\n",
    "                    scores_name = os.path.join(img_dir, \"scores.npy\")\n",
    "                    info_name = os.path.join(img_dir, \"info.txt\")\n",
    "                    masked_image_name = os.path.join(img_dir, \"masked_image.jpg\")\n",
    "\n",
    "                    img.save(img_name)\n",
    "                    Image.fromarray(gradcam_result).save(gradcam_name)\n",
    "                    Image.fromarray((grayscale_cams[0] * 255).astype(np.uint8)).save(grayscale_name)\n",
    "                    np.save(grayscale_npy_name, grayscale_cams[0])\n",
    "\n",
    "                    \n",
    "                    apply_mask_to_image(img_name, grayscale_npy_name, masked_image_name)\n",
    "                    # 对masked_image.jpg进行model inference\n",
    "                    masked_image = Image.open(masked_image_name).resize((384, 384))\n",
    "                    masked_tensor = transforms.ToTensor()(masked_image).to(device)\n",
    "                    masked_logits = model(masked_tensor.unsqueeze(0))\n",
    "\n",
    "                    top_indices_masked = masked_logits[0].argsort(descending=True)[:].cpu().numpy()\n",
    "                    #predictions_masked = {index: {\"score\": masked_logits[0][index].item(), \"label\": model.config.id2label[index]} for index in top_indices_masked}\n",
    "                    predictions_masked = {index: {\"score\": masked_logits[0][index].item(), \"label\": imagenet_class_index[str(index)][1]} for index in top_indices_masked}\n",
    "\n",
    "                \n",
    "                    # 保存masked_image的inference结果到info_masked.txt\n",
    "                    info_masked_name = os.path.join(img_dir, \"info_masked.txt\")\n",
    "                    with open(info_masked_name, 'w') as f:\n",
    "                        for index, data in predictions_masked.items():\n",
    "                            label = data[\"label\"]\n",
    "                            score = data[\"score\"]\n",
    "                            f.write(f\"Class {index} ({label}): {score:.2f}\\n\")\n",
    "\n",
    "\n",
    "                    scores = [data[\"score\"] for _, data in predictions.items()]\n",
    "                    np.save(scores_name, scores)\n",
    "\n",
    "                    with open(info_name, 'w') as f:\n",
    "                        for index, data in predictions.items():\n",
    "                            label = data[\"label\"]\n",
    "                            score = data[\"score\"]\n",
    "                            f.write(f\"Class {index} ({label}): {score:.2f}\\n\")\n",
    "                except Exception as e:\n",
    "                    print(f\"Error processing {filename}: {str(e)}\")\n",
    "\n",
    "        print(f\"{CAM_ALGORITHM} processing completed.\")"
   ]
  },
  {
   "cell_type": "markdown",
   "metadata": {},
   "source": [
    "functions"
   ]
  },
  {
   "cell_type": "code",
   "execution_count": null,
   "metadata": {},
   "outputs": [],
   "source": [
    "\n"
   ]
  }
 ],
 "metadata": {
  "kernelspec": {
   "display_name": "xai",
   "language": "python",
   "name": "python3"
  },
  "language_info": {
   "codemirror_mode": {
    "name": "ipython",
    "version": 3
   },
   "file_extension": ".py",
   "mimetype": "text/x-python",
   "name": "python",
   "nbconvert_exporter": "python",
   "pygments_lexer": "ipython3",
   "version": "3.8.18"
  },
  "orig_nbformat": 4
 },
 "nbformat": 4,
 "nbformat_minor": 2
}
